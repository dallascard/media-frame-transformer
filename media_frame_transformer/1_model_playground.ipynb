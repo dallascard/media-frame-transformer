{
 "metadata": {
  "language_info": {
   "codemirror_mode": {
    "name": "ipython",
    "version": 3
   },
   "file_extension": ".py",
   "mimetype": "text/x-python",
   "name": "python",
   "nbconvert_exporter": "python",
   "pygments_lexer": "ipython3",
   "version": "3.9.1-final"
  },
  "orig_nbformat": 2,
  "kernelspec": {
   "name": "python3",
   "display_name": "Python 3",
   "language": "python"
  }
 },
 "nbformat": 4,
 "nbformat_minor": 2,
 "cells": [
  {
   "cell_type": "code",
   "execution_count": null,
   "metadata": {},
   "outputs": [],
   "source": [
    "from torch.utils.data import DataLoader, Dataset\n",
    "from transformers import AdamW, BertConfig, RobertaForSequenceClassification\n",
    "\n",
    "from media_frame_transformer.dataset import PrimaryFrameDataset\n",
    "from transformers import AdamW\n",
    "from torch.nn import functional as F\n",
    "from config import ISSUES\n",
    "\n",
    "BATCH_SIZE = 5\n",
    "NUM_DATALOADER_WORKER = 2"
   ]
  },
  {
   "cell_type": "code",
   "execution_count": null,
   "metadata": {},
   "outputs": [],
   "source": [
    "train_set = PrimaryFrameDataset(ISSUES, \"train\")\n",
    "test_set = PrimaryFrameDataset(ISSUES, \"test\")\n",
    "train_loader = DataLoader(\n",
    "    train_set,\n",
    "    batch_size=BATCH_SIZE,\n",
    "    shuffle=True,\n",
    "    num_workers=NUM_DATALOADER_WORKER,\n",
    ")\n",
    "test_loader = DataLoader(\n",
    "    test_set,\n",
    "    batch_size=BATCH_SIZE,\n",
    "    shuffle=True,\n",
    "    num_workers=NUM_DATALOADER_WORKER,\n",
    ")"
   ]
  },
  {
   "cell_type": "code",
   "execution_count": null,
   "metadata": {},
   "outputs": [],
   "source": [
    "len(train_loader), len(test_loader)"
   ]
  },
  {
   "cell_type": "code",
   "execution_count": null,
   "metadata": {},
   "outputs": [],
   "source": [
    "len(train_set), len(test_set)"
   ]
  },
  {
   "cell_type": "code",
   "execution_count": null,
   "metadata": {},
   "outputs": [],
   "source": [
    "model = RobertaForSequenceClassification.from_pretrained(\n",
    "    \"roberta-base\",\n",
    "    num_labels=15,\n",
    "    output_attentions=False,  # Whether the model returns attentions weights.\n",
    "    output_hidden_states=False,  # Whether the model returns all hidden-states.\n",
    ")\n",
    "model = model.cuda()"
   ]
  },
  {
   "cell_type": "code",
   "execution_count": null,
   "metadata": {},
   "outputs": [],
   "source": [
    "optimizer = AdamW(model.parameters(),  lr = 1e-5)\n",
    "\n",
    "for i, batch in enumerate(train_loader):\n",
    "    optimizer.zero_grad()\n",
    "    model.train()\n",
    "\n",
    "    x = batch['x'].cuda()\n",
    "    y = batch['y'].cuda()\n",
    "    # print(x.shape, y.shape)\n",
    "\n",
    "    outputs = model(x)\n",
    "    loss = F.cross_entropy(outputs.logits, y)\n",
    "    loss.backward()\n",
    "    optimizer.step()\n",
    "    \n",
    "    print(i, loss)"
   ]
  },
  {
   "cell_type": "code",
   "execution_count": null,
   "metadata": {},
   "outputs": [],
   "source": [
    "from tqdm import tqdm\n",
    "import torch  \n",
    "\n",
    "num_correct = 0\n",
    "\n",
    "with torch.no_grad():\n",
    "    for i, batch in enumerate(tqdm(train_loader)):\n",
    "        model.eval()\n",
    "        x = batch['x'].cuda()\n",
    "        y = batch['y'].cuda()\n",
    "        outputs = model(x)\n",
    "        preds = torch.argmax(outputs.logits, dim=-1)\n",
    "        correct = (preds == y)\n",
    "        num_correct += correct.sum()\n",
    "\n",
    "print(num_correct / len(train_set))"
   ]
  },
  {
   "cell_type": "code",
   "execution_count": null,
   "metadata": {},
   "outputs": [],
   "source": [
    "from tqdm import tqdm\n",
    "import torch  \n",
    "\n",
    "num_correct = 0\n",
    "\n",
    "with torch.no_grad():\n",
    "    for i, batch in enumerate(tqdm(test_loader)):\n",
    "        model.eval()\n",
    "        x = batch['x'].cuda()\n",
    "        y = batch['y'].cuda()\n",
    "        outputs = model(x)\n",
    "        preds = torch.argmax(outputs.logits, dim=-1)\n",
    "        correct = (preds == y)\n",
    "        num_correct += correct.sum()\n",
    "\n",
    "print(num_correct / len(test_set))"
   ]
  },
  {
   "cell_type": "code",
   "execution_count": null,
   "metadata": {},
   "outputs": [],
   "source": []
  },
  {
   "cell_type": "code",
   "execution_count": null,
   "metadata": {},
   "outputs": [],
   "source": []
  }
 ]
}