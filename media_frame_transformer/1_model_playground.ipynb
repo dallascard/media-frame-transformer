{
 "metadata": {
  "language_info": {
   "codemirror_mode": {
    "name": "ipython",
    "version": 3
   },
   "file_extension": ".py",
   "mimetype": "text/x-python",
   "name": "python",
   "nbconvert_exporter": "python",
   "pygments_lexer": "ipython3",
   "version": "3.9.1-final"
  },
  "orig_nbformat": 2,
  "kernelspec": {
   "name": "python3",
   "display_name": "Python 3.9.1 64-bit ('m': conda)",
   "metadata": {
    "interpreter": {
     "hash": "685b3bf063e612b23baf300352c01bfa197ce7a6b65ea1ac5ee59c3df2cd6362"
    }
   }
  }
 },
 "nbformat": 4,
 "nbformat_minor": 2,
 "cells": [
  {
   "cell_type": "code",
   "execution_count": 1,
   "metadata": {},
   "outputs": [],
   "source": [
    "from torch.utils.data import DataLoader, Dataset\n",
    "from transformers import AdamW, BertConfig, RobertaForSequenceClassification\n",
    "\n",
    "from media_frame_transformer.dataset import PrimaryFrameDataset\n",
    "from transformers import AdamW\n",
    "from torch.nn import functional as F\n",
    "# from config import ISSUES\n",
    "from tqdm import tqdm\n",
    "\n",
    "ISSUES = [\n",
    "    \"climate\",\n",
    "    # \"deathpenalty\",\n",
    "    # \"guncontrol\",\n",
    "    # \"immigration\",\n",
    "    # \"samesex\",\n",
    "    # \"tobacco\",\n",
    "]\n",
    "\n",
    "BATCH_SIZE = 25\n",
    "NUM_DATALOADER_WORKER = 4"
   ]
  },
  {
   "cell_type": "code",
   "execution_count": 2,
   "metadata": {},
   "outputs": [
    {
     "output_type": "stream",
     "name": "stderr",
     "text": [
      "PrimaryFrameDataset: 100%|██████████| 1/1 [00:00<00:00,  2.71it/s]\n",
      "PrimaryFrameDataset: 100%|██████████| 1/1 [00:00<00:00,  2.41it/s]\n"
     ]
    }
   ],
   "source": [
    "train_set = PrimaryFrameDataset(ISSUES, \"train\")\n",
    "test_set = PrimaryFrameDataset([\"climate\"], \"test\")\n",
    "train_loader = DataLoader(\n",
    "    train_set,\n",
    "    batch_size=BATCH_SIZE,\n",
    "    shuffle=True,\n",
    "    num_workers=NUM_DATALOADER_WORKER,\n",
    ")\n",
    "test_loader = DataLoader(\n",
    "    test_set,\n",
    "    batch_size=BATCH_SIZE,\n",
    "    shuffle=True,\n",
    "    num_workers=NUM_DATALOADER_WORKER,\n",
    ")"
   ]
  },
  {
   "cell_type": "code",
   "execution_count": 3,
   "metadata": {},
   "outputs": [
    {
     "output_type": "execute_result",
     "data": {
      "text/plain": [
       "(151, 16)"
      ]
     },
     "metadata": {},
     "execution_count": 3
    }
   ],
   "source": [
    "len(train_loader), len(test_loader)"
   ]
  },
  {
   "cell_type": "code",
   "execution_count": 4,
   "metadata": {},
   "outputs": [
    {
     "output_type": "execute_result",
     "data": {
      "text/plain": [
       "(3770, 399)"
      ]
     },
     "metadata": {},
     "execution_count": 4
    }
   ],
   "source": [
    "len(train_set), len(test_set)"
   ]
  },
  {
   "cell_type": "code",
   "execution_count": 5,
   "metadata": {},
   "outputs": [
    {
     "output_type": "stream",
     "name": "stderr",
     "text": [
      "Some weights of the model checkpoint at roberta-base were not used when initializing RobertaForSequenceClassification: ['lm_head.bias', 'lm_head.dense.weight', 'lm_head.dense.bias', 'lm_head.layer_norm.weight', 'lm_head.layer_norm.bias', 'lm_head.decoder.weight', 'roberta.pooler.dense.weight', 'roberta.pooler.dense.bias']\n",
      "- This IS expected if you are initializing RobertaForSequenceClassification from the checkpoint of a model trained on another task or with another architecture (e.g. initializing a BertForSequenceClassification model from a BertForPreTraining model).\n",
      "- This IS NOT expected if you are initializing RobertaForSequenceClassification from the checkpoint of a model that you expect to be exactly identical (initializing a BertForSequenceClassification model from a BertForSequenceClassification model).\n",
      "Some weights of RobertaForSequenceClassification were not initialized from the model checkpoint at roberta-base and are newly initialized: ['classifier.dense.weight', 'classifier.dense.bias', 'classifier.out_proj.weight', 'classifier.out_proj.bias']\n",
      "You should probably TRAIN this model on a down-stream task to be able to use it for predictions and inference.\n"
     ]
    }
   ],
   "source": [
    "model = RobertaForSequenceClassification.from_pretrained(\n",
    "    \"roberta-base\",\n",
    "    num_labels=15,\n",
    "    output_attentions=False,  # Whether the model returns attentions weights.\n",
    "    output_hidden_states=False,  # Whether the model returns all hidden-states.\n",
    ")\n",
    "model = model.cuda()"
   ]
  },
  {
   "cell_type": "code",
   "execution_count": 6,
   "metadata": {},
   "outputs": [
    {
     "output_type": "stream",
     "name": "stderr",
     "text": [
      "  0%|          | 0/151 [00:00<?, ?it/s]torch.Size([25, 512]) torch.Size([25])\n",
      "  1%|          | 1/151 [00:00<01:19,  1.88it/s]0 tensor(0.1078, device='cuda:0', grad_fn=<DivBackward0>)\n",
      "torch.Size([25, 512]) torch.Size([25])\n",
      "  1%|▏         | 2/151 [00:00<01:09,  2.15it/s]torch.Size([25, 512]) torch.Size([25])\n",
      "  2%|▏         | 3/151 [00:01<01:05,  2.24it/s]torch.Size([25, 512]) torch.Size([25])\n",
      "  3%|▎         | 4/151 [00:01<01:04,  2.29it/s]torch.Size([25, 512]) torch.Size([25])\n",
      "  3%|▎         | 5/151 [00:02<01:02,  2.32it/s]torch.Size([25, 512]) torch.Size([25])\n",
      "  4%|▍         | 6/151 [00:02<01:02,  2.34it/s]torch.Size([25, 512]) torch.Size([25])\n",
      "  5%|▍         | 7/151 [00:03<01:01,  2.35it/s]torch.Size([25, 512]) torch.Size([25])\n",
      "  5%|▌         | 8/151 [00:03<01:00,  2.35it/s]torch.Size([25, 512]) torch.Size([25])\n",
      "  6%|▌         | 9/151 [00:03<01:00,  2.35it/s]torch.Size([25, 512]) torch.Size([25])\n",
      "  7%|▋         | 10/151 [00:04<00:59,  2.36it/s]torch.Size([25, 512]) torch.Size([25])\n",
      "  7%|▋         | 11/151 [00:04<00:59,  2.36it/s]10 tensor(0.0976, device='cuda:0', grad_fn=<DivBackward0>)\n",
      "torch.Size([25, 512]) torch.Size([25])\n",
      "  8%|▊         | 12/151 [00:05<00:58,  2.36it/s]torch.Size([25, 512]) torch.Size([25])\n",
      "  9%|▊         | 13/151 [00:05<00:58,  2.36it/s]torch.Size([25, 512]) torch.Size([25])\n",
      "  9%|▉         | 14/151 [00:06<00:58,  2.36it/s]torch.Size([25, 512]) torch.Size([25])\n",
      " 10%|▉         | 15/151 [00:06<00:57,  2.36it/s]torch.Size([25, 512]) torch.Size([25])\n",
      " 11%|█         | 16/151 [00:06<00:57,  2.36it/s]torch.Size([25, 512]) torch.Size([25])\n",
      " 11%|█▏        | 17/151 [00:07<00:56,  2.36it/s]torch.Size([25, 512]) torch.Size([25])\n",
      " 12%|█▏        | 18/151 [00:07<00:56,  2.37it/s]torch.Size([25, 512]) torch.Size([25])\n",
      " 13%|█▎        | 19/151 [00:08<00:55,  2.37it/s]torch.Size([25, 512]) torch.Size([25])\n",
      " 13%|█▎        | 20/151 [00:08<00:55,  2.36it/s]torch.Size([25, 512]) torch.Size([25])\n",
      " 14%|█▍        | 21/151 [00:08<00:54,  2.37it/s]20 tensor(0.0754, device='cuda:0', grad_fn=<DivBackward0>)\n",
      "torch.Size([25, 512]) torch.Size([25])\n",
      " 15%|█▍        | 22/151 [00:09<00:54,  2.37it/s]torch.Size([25, 512]) torch.Size([25])\n",
      " 15%|█▌        | 23/151 [00:09<00:54,  2.36it/s]torch.Size([25, 512]) torch.Size([25])\n",
      " 16%|█▌        | 24/151 [00:10<00:53,  2.36it/s]torch.Size([25, 512]) torch.Size([25])\n",
      " 17%|█▋        | 25/151 [00:10<00:53,  2.36it/s]torch.Size([25, 512]) torch.Size([25])\n",
      " 17%|█▋        | 26/151 [00:11<00:53,  2.36it/s]torch.Size([25, 512]) torch.Size([25])\n",
      " 18%|█▊        | 27/151 [00:11<00:52,  2.36it/s]torch.Size([25, 512]) torch.Size([25])\n",
      " 18%|█▊        | 27/151 [00:11<00:54,  2.26it/s]\n"
     ]
    },
    {
     "output_type": "error",
     "ename": "KeyboardInterrupt",
     "evalue": "",
     "traceback": [
      "\u001b[0;31m---------------------------------------------------------------------------\u001b[0m",
      "\u001b[0;31mKeyboardInterrupt\u001b[0m                         Traceback (most recent call last)",
      "\u001b[0;32m<ipython-input-6-96183ec0a422>\u001b[0m in \u001b[0;36m<module>\u001b[0;34m\u001b[0m\n\u001b[1;32m     11\u001b[0m     \u001b[0moutputs\u001b[0m \u001b[0;34m=\u001b[0m \u001b[0mmodel\u001b[0m\u001b[0;34m(\u001b[0m\u001b[0mx\u001b[0m\u001b[0;34m)\u001b[0m\u001b[0;34m\u001b[0m\u001b[0;34m\u001b[0m\u001b[0m\n\u001b[1;32m     12\u001b[0m     \u001b[0mloss\u001b[0m \u001b[0;34m=\u001b[0m \u001b[0mF\u001b[0m\u001b[0;34m.\u001b[0m\u001b[0mcross_entropy\u001b[0m\u001b[0;34m(\u001b[0m\u001b[0moutputs\u001b[0m\u001b[0;34m.\u001b[0m\u001b[0mlogits\u001b[0m\u001b[0;34m,\u001b[0m \u001b[0my\u001b[0m\u001b[0;34m)\u001b[0m\u001b[0;34m\u001b[0m\u001b[0;34m\u001b[0m\u001b[0m\n\u001b[0;32m---> 13\u001b[0;31m     \u001b[0mloss\u001b[0m\u001b[0;34m.\u001b[0m\u001b[0mbackward\u001b[0m\u001b[0;34m(\u001b[0m\u001b[0;34m)\u001b[0m\u001b[0;34m\u001b[0m\u001b[0;34m\u001b[0m\u001b[0m\n\u001b[0m\u001b[1;32m     14\u001b[0m     \u001b[0moptimizer\u001b[0m\u001b[0;34m.\u001b[0m\u001b[0mstep\u001b[0m\u001b[0;34m(\u001b[0m\u001b[0;34m)\u001b[0m\u001b[0;34m\u001b[0m\u001b[0;34m\u001b[0m\u001b[0m\n\u001b[1;32m     15\u001b[0m \u001b[0;34m\u001b[0m\u001b[0m\n",
      "\u001b[0;32m~/anaconda3/envs/m/lib/python3.9/site-packages/torch/tensor.py\u001b[0m in \u001b[0;36mbackward\u001b[0;34m(self, gradient, retain_graph, create_graph)\u001b[0m\n\u001b[1;32m    219\u001b[0m                 \u001b[0mretain_graph\u001b[0m\u001b[0;34m=\u001b[0m\u001b[0mretain_graph\u001b[0m\u001b[0;34m,\u001b[0m\u001b[0;34m\u001b[0m\u001b[0;34m\u001b[0m\u001b[0m\n\u001b[1;32m    220\u001b[0m                 create_graph=create_graph)\n\u001b[0;32m--> 221\u001b[0;31m         \u001b[0mtorch\u001b[0m\u001b[0;34m.\u001b[0m\u001b[0mautograd\u001b[0m\u001b[0;34m.\u001b[0m\u001b[0mbackward\u001b[0m\u001b[0;34m(\u001b[0m\u001b[0mself\u001b[0m\u001b[0;34m,\u001b[0m \u001b[0mgradient\u001b[0m\u001b[0;34m,\u001b[0m \u001b[0mretain_graph\u001b[0m\u001b[0;34m,\u001b[0m \u001b[0mcreate_graph\u001b[0m\u001b[0;34m)\u001b[0m\u001b[0;34m\u001b[0m\u001b[0;34m\u001b[0m\u001b[0m\n\u001b[0m\u001b[1;32m    222\u001b[0m \u001b[0;34m\u001b[0m\u001b[0m\n\u001b[1;32m    223\u001b[0m     \u001b[0;32mdef\u001b[0m \u001b[0mregister_hook\u001b[0m\u001b[0;34m(\u001b[0m\u001b[0mself\u001b[0m\u001b[0;34m,\u001b[0m \u001b[0mhook\u001b[0m\u001b[0;34m)\u001b[0m\u001b[0;34m:\u001b[0m\u001b[0;34m\u001b[0m\u001b[0;34m\u001b[0m\u001b[0m\n",
      "\u001b[0;32m~/anaconda3/envs/m/lib/python3.9/site-packages/torch/autograd/__init__.py\u001b[0m in \u001b[0;36mbackward\u001b[0;34m(tensors, grad_tensors, retain_graph, create_graph, grad_variables)\u001b[0m\n\u001b[1;32m    128\u001b[0m         \u001b[0mretain_graph\u001b[0m \u001b[0;34m=\u001b[0m \u001b[0mcreate_graph\u001b[0m\u001b[0;34m\u001b[0m\u001b[0;34m\u001b[0m\u001b[0m\n\u001b[1;32m    129\u001b[0m \u001b[0;34m\u001b[0m\u001b[0m\n\u001b[0;32m--> 130\u001b[0;31m     Variable._execution_engine.run_backward(\n\u001b[0m\u001b[1;32m    131\u001b[0m         \u001b[0mtensors\u001b[0m\u001b[0;34m,\u001b[0m \u001b[0mgrad_tensors_\u001b[0m\u001b[0;34m,\u001b[0m \u001b[0mretain_graph\u001b[0m\u001b[0;34m,\u001b[0m \u001b[0mcreate_graph\u001b[0m\u001b[0;34m,\u001b[0m\u001b[0;34m\u001b[0m\u001b[0;34m\u001b[0m\u001b[0m\n\u001b[1;32m    132\u001b[0m         allow_unreachable=True)  # allow_unreachable flag\n",
      "\u001b[0;31mKeyboardInterrupt\u001b[0m: "
     ]
    }
   ],
   "source": [
    "optimizer = AdamW(model.parameters(),  lr = 1e-5)\n",
    "\n",
    "for i, batch in enumerate(tqdm(train_loader)):\n",
    "    optimizer.zero_grad()\n",
    "    model.train()\n",
    "\n",
    "    x = batch['x'].cuda()\n",
    "    y = batch['y'].cuda()\n",
    "    print(x.shape, y.shape)\n",
    "\n",
    "    outputs = model(x)\n",
    "    loss = F.cross_entropy(outputs.logits, y)\n",
    "    loss.backward()\n",
    "    optimizer.step()\n",
    "    \n",
    "    if i%10 == 0:\n",
    "        print(i, loss / y.shape[0])"
   ]
  },
  {
   "cell_type": "code",
   "execution_count": 10,
   "metadata": {},
   "outputs": [
    {
     "output_type": "stream",
     "name": "stderr",
     "text": [
      "100%|██████████| 151/151 [00:20<00:00,  7.21it/s]\n",
      "tensor(0.6546, device='cuda:0')\n"
     ]
    }
   ],
   "source": [
    "from tqdm import tqdm\n",
    "import torch  \n",
    "\n",
    "num_correct = 0\n",
    "\n",
    "with torch.no_grad():\n",
    "    for i, batch in enumerate(tqdm(train_loader)):\n",
    "        model.eval()\n",
    "        x = batch['x'].cuda()\n",
    "        y = batch['y'].cuda()\n",
    "        outputs = model(x)\n",
    "        preds = torch.argmax(outputs.logits, dim=-1)\n",
    "        correct = (preds == y)\n",
    "        num_correct += correct.sum()\n",
    "\n",
    "print(num_correct / len(train_set))"
   ]
  },
  {
   "cell_type": "code",
   "execution_count": 11,
   "metadata": {},
   "outputs": [
    {
     "output_type": "stream",
     "name": "stderr",
     "text": [
      "100%|██████████| 16/16 [00:02<00:00,  7.21it/s]\n",
      "tensor(0.6441, device='cuda:0')\n"
     ]
    }
   ],
   "source": [
    "from tqdm import tqdm\n",
    "import torch  \n",
    "\n",
    "num_correct = 0\n",
    "\n",
    "with torch.no_grad():\n",
    "    for i, batch in enumerate(tqdm(test_loader)):\n",
    "        model.eval()\n",
    "        x = batch['x'].cuda()\n",
    "        y = batch['y'].cuda()\n",
    "        outputs = model(x)\n",
    "        preds = torch.argmax(outputs.logits, dim=-1)\n",
    "        correct = (preds == y)\n",
    "        num_correct += correct.sum()\n",
    "\n",
    "print(num_correct / len(test_set))"
   ]
  },
  {
   "cell_type": "code",
   "execution_count": null,
   "metadata": {},
   "outputs": [],
   "source": []
  },
  {
   "cell_type": "code",
   "execution_count": null,
   "metadata": {},
   "outputs": [],
   "source": []
  }
 ]
}