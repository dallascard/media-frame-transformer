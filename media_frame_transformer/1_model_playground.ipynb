{
 "metadata": {
  "language_info": {
   "codemirror_mode": {
    "name": "ipython",
    "version": 3
   },
   "file_extension": ".py",
   "mimetype": "text/x-python",
   "name": "python",
   "nbconvert_exporter": "python",
   "pygments_lexer": "ipython3",
   "version": "3.9.1-final"
  },
  "orig_nbformat": 2,
  "kernelspec": {
   "name": "python3",
   "display_name": "Python 3.9.1 64-bit ('m': conda)",
   "metadata": {
    "interpreter": {
     "hash": "685b3bf063e612b23baf300352c01bfa197ce7a6b65ea1ac5ee59c3df2cd6362"
    }
   }
  }
 },
 "nbformat": 4,
 "nbformat_minor": 2,
 "cells": [
  {
   "cell_type": "code",
   "execution_count": 1,
   "metadata": {},
   "outputs": [],
   "source": [
    "from torch.utils.data import DataLoader, Dataset\n",
    "from transformers import AdamW, BertConfig, RobertaForSequenceClassification\n",
    "\n",
    "from media_frame_transformer.dataset import PrimaryFrameDataset\n",
    "from transformers import AdamW\n",
    "from torch.nn import functional as F\n",
    "# from config import ISSUES\n",
    "from tqdm import tqdm\n",
    "\n",
    "ISSUES = [\n",
    "    \"climate\",\n",
    "    \"deathpenalty\",\n",
    "    \"guncontrol\",\n",
    "    # \"immigration\",\n",
    "    \"samesex\",\n",
    "    \"tobacco\",\n",
    "]\n",
    "\n",
    "BATCH_SIZE = 25\n",
    "NUM_DATALOADER_WORKER = 4"
   ]
  },
  {
   "cell_type": "code",
   "execution_count": 2,
   "metadata": {},
   "outputs": [
    {
     "output_type": "stream",
     "name": "stderr",
     "text": [
      "PrimaryFrameDataset: 100%|██████████| 5/5 [00:02<00:00,  1.70it/s]\n",
      "PrimaryFrameDataset: 100%|██████████| 1/1 [00:00<00:00,  2.02it/s]\n"
     ]
    }
   ],
   "source": [
    "train_set = PrimaryFrameDataset(ISSUES, \"train\")\n",
    "test_set = PrimaryFrameDataset([\"immigration\"], \"test\")\n",
    "train_loader = DataLoader(\n",
    "    train_set,\n",
    "    batch_size=BATCH_SIZE,\n",
    "    shuffle=True,\n",
    "    num_workers=NUM_DATALOADER_WORKER,\n",
    ")\n",
    "test_loader = DataLoader(\n",
    "    test_set,\n",
    "    batch_size=BATCH_SIZE,\n",
    "    shuffle=True,\n",
    "    num_workers=NUM_DATALOADER_WORKER,\n",
    ")"
   ]
  },
  {
   "cell_type": "code",
   "execution_count": 3,
   "metadata": {},
   "outputs": [
    {
     "output_type": "execute_result",
     "data": {
      "text/plain": [
       "(922, 16)"
      ]
     },
     "metadata": {},
     "execution_count": 3
    }
   ],
   "source": [
    "len(train_loader), len(test_loader)"
   ]
  },
  {
   "cell_type": "code",
   "execution_count": 4,
   "metadata": {},
   "outputs": [
    {
     "output_type": "execute_result",
     "data": {
      "text/plain": [
       "(23034, 399)"
      ]
     },
     "metadata": {},
     "execution_count": 4
    }
   ],
   "source": [
    "len(train_set), len(test_set)"
   ]
  },
  {
   "cell_type": "code",
   "execution_count": 5,
   "metadata": {},
   "outputs": [
    {
     "output_type": "stream",
     "name": "stderr",
     "text": [
      "Some weights of the model checkpoint at roberta-base were not used when initializing RobertaForSequenceClassification: ['lm_head.bias', 'lm_head.dense.weight', 'lm_head.dense.bias', 'lm_head.layer_norm.weight', 'lm_head.layer_norm.bias', 'lm_head.decoder.weight', 'roberta.pooler.dense.weight', 'roberta.pooler.dense.bias']\n",
      "- This IS expected if you are initializing RobertaForSequenceClassification from the checkpoint of a model trained on another task or with another architecture (e.g. initializing a BertForSequenceClassification model from a BertForPreTraining model).\n",
      "- This IS NOT expected if you are initializing RobertaForSequenceClassification from the checkpoint of a model that you expect to be exactly identical (initializing a BertForSequenceClassification model from a BertForSequenceClassification model).\n",
      "Some weights of RobertaForSequenceClassification were not initialized from the model checkpoint at roberta-base and are newly initialized: ['classifier.dense.weight', 'classifier.dense.bias', 'classifier.out_proj.weight', 'classifier.out_proj.bias']\n",
      "You should probably TRAIN this model on a down-stream task to be able to use it for predictions and inference.\n"
     ]
    }
   ],
   "source": [
    "model = RobertaForSequenceClassification.from_pretrained(\n",
    "    \"roberta-base\",\n",
    "    num_labels=15,\n",
    "    output_attentions=False,  # Whether the model returns attentions weights.\n",
    "    output_hidden_states=False,  # Whether the model returns all hidden-states.\n",
    ")\n",
    "model = model.cuda()"
   ]
  },
  {
   "cell_type": "code",
   "execution_count": 12,
   "metadata": {},
   "outputs": [
    {
     "output_type": "stream",
     "name": "stderr",
     "text": [
      "  0%|          | 1/922 [00:00<08:31,  1.80it/s]0 tensor(0.8725, device='cuda:0', grad_fn=<NllLossBackward>)\n",
      " 11%|█         | 101/922 [00:43<05:50,  2.34it/s]100 tensor(0.8663, device='cuda:0', grad_fn=<NllLossBackward>)\n",
      " 22%|██▏       | 201/922 [01:25<05:05,  2.36it/s]200 tensor(0.7479, device='cuda:0', grad_fn=<NllLossBackward>)\n",
      " 33%|███▎      | 301/922 [02:08<04:23,  2.36it/s]300 tensor(0.7900, device='cuda:0', grad_fn=<NllLossBackward>)\n",
      " 43%|████▎     | 401/922 [02:51<03:42,  2.35it/s]400 tensor(0.7998, device='cuda:0', grad_fn=<NllLossBackward>)\n",
      " 54%|█████▍    | 501/922 [03:33<03:00,  2.33it/s]500 tensor(1.5004, device='cuda:0', grad_fn=<NllLossBackward>)\n",
      " 65%|██████▌   | 601/922 [04:16<02:17,  2.34it/s]600 tensor(1.0457, device='cuda:0', grad_fn=<NllLossBackward>)\n",
      " 76%|███████▌  | 701/922 [04:59<01:34,  2.34it/s]700 tensor(1.2280, device='cuda:0', grad_fn=<NllLossBackward>)\n",
      " 87%|████████▋ | 801/922 [05:42<00:51,  2.34it/s]800 tensor(0.8271, device='cuda:0', grad_fn=<NllLossBackward>)\n",
      " 98%|█████████▊| 901/922 [06:25<00:09,  2.33it/s]900 tensor(0.7607, device='cuda:0', grad_fn=<NllLossBackward>)\n",
      "100%|██████████| 922/922 [06:33<00:00,  2.34it/s]\n"
     ]
    }
   ],
   "source": [
    "optimizer = AdamW(model.parameters(),  lr = 1e-5)\n",
    "\n",
    "for i, batch in enumerate(tqdm(train_loader)):\n",
    "    optimizer.zero_grad()\n",
    "    model.train()\n",
    "\n",
    "    x = batch['x'].cuda()\n",
    "    y = batch['y'].cuda()\n",
    "    # print(x.shape, y.shape)\n",
    "\n",
    "    outputs = model(x)\n",
    "    loss = F.cross_entropy(outputs.logits, y)\n",
    "    loss.backward()\n",
    "    optimizer.step()\n",
    "    \n",
    "    if i%100 == 0:\n",
    "        print(i, loss)"
   ]
  },
  {
   "cell_type": "code",
   "execution_count": 13,
   "metadata": {},
   "outputs": [
    {
     "output_type": "stream",
     "name": "stderr",
     "text": [
      "100%|██████████| 922/922 [02:08<00:00,  7.17it/s]tensor(0.7478, device='cuda:0')\n",
      "\n"
     ]
    }
   ],
   "source": [
    "from tqdm import tqdm\n",
    "import torch  \n",
    "\n",
    "num_correct = 0\n",
    "\n",
    "with torch.no_grad():\n",
    "    for i, batch in enumerate(tqdm(train_loader)):\n",
    "        model.eval()\n",
    "        x = batch['x'].cuda()\n",
    "        y = batch['y'].cuda()\n",
    "        outputs = model(x)\n",
    "        preds = torch.argmax(outputs.logits, dim=-1)\n",
    "        correct = (preds == y)\n",
    "        num_correct += correct.sum()\n",
    "\n",
    "print(num_correct / len(train_set))"
   ]
  },
  {
   "cell_type": "code",
   "execution_count": 14,
   "metadata": {},
   "outputs": [
    {
     "output_type": "stream",
     "name": "stderr",
     "text": [
      "100%|██████████| 16/16 [00:02<00:00,  7.12it/s]\n",
      "tensor(0.5263, device='cuda:0')\n"
     ]
    }
   ],
   "source": [
    "from tqdm import tqdm\n",
    "import torch  \n",
    "\n",
    "num_correct = 0\n",
    "\n",
    "with torch.no_grad():\n",
    "    for i, batch in enumerate(tqdm(test_loader)):\n",
    "        model.eval()\n",
    "        x = batch['x'].cuda()\n",
    "        y = batch['y'].cuda()\n",
    "        outputs = model(x)\n",
    "        preds = torch.argmax(outputs.logits, dim=-1)\n",
    "        correct = (preds == y)\n",
    "        num_correct += correct.sum()\n",
    "\n",
    "print(num_correct / len(test_set))"
   ]
  },
  {
   "cell_type": "code",
   "execution_count": null,
   "metadata": {},
   "outputs": [],
   "source": []
  },
  {
   "cell_type": "code",
   "execution_count": null,
   "metadata": {},
   "outputs": [],
   "source": []
  }
 ]
}